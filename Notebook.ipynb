{
 "cells": [
  {
   "cell_type": "code",
   "execution_count": 1,
   "id": "e0469988-c8d3-4e90-ad52-210bf6e3e312",
   "metadata": {},
   "outputs": [],
   "source": [
    "# Standard Imports\n",
    "import numpy as np\n",
    "import pandas as pd\n",
    "import matplotlib.pyplot as plt\n",
    "import seaborn as sns\n",
    "# Additional Imports\n",
    "import os, json, math, time\n",
    "from yelpapi import YelpAPI\n",
    "from tqdm.notebook import tqdm_notebook"
   ]
  },
  {
   "cell_type": "code",
   "execution_count": 2,
   "id": "8aa16fb3-c80f-403d-a679-93d0950cfe5b",
   "metadata": {},
   "outputs": [
    {
     "data": {
      "text/plain": [
       "dict_keys(['Client-ID', 'API Key'])"
      ]
     },
     "execution_count": 2,
     "metadata": {},
     "output_type": "execute_result"
    }
   ],
   "source": [
    "# Load API Credentials\n",
    "with open('/Users/Admin/.secret/yelp_api.json') as f:   #use your path here!\n",
    "    login = json.load(f)\n",
    "login.keys()"
   ]
  },
  {
   "cell_type": "code",
   "execution_count": 3,
   "id": "ea4ecd7d-0a9e-4eed-b1bc-fc8a2a7324cc",
   "metadata": {},
   "outputs": [],
   "source": [
    "# Instantiate YelpAPI Variable\n",
    "yelp_api = YelpAPI(login['API Key'], timeout_s=5.0)"
   ]
  },
  {
   "cell_type": "code",
   "execution_count": 4,
   "id": "6a99e24c-bd47-44ed-a5c8-8a2b919c13b9",
   "metadata": {},
   "outputs": [],
   "source": [
    "# set API call parameters \n",
    "LOCATION = 'Frisco, TX'\n",
    "TERM = 'Tacos'\n"
   ]
  },
  {
   "cell_type": "code",
   "execution_count": 7,
   "id": "1bccf217-1081-4654-b8a4-865fb6d17b07",
   "metadata": {},
   "outputs": [
    {
     "data": {
      "text/plain": [
       "'Data/results_in_progress_TX_Tacos.json'"
      ]
     },
     "execution_count": 7,
     "metadata": {},
     "output_type": "execute_result"
    }
   ],
   "source": [
    "# Specifying JSON_FILE filename\n",
    "JSON_FILE = \"Data/results_in_progress_TX_Tacos.json\"\n",
    "JSON_FILE"
   ]
  },
  {
   "cell_type": "code",
   "execution_count": 10,
   "id": "d8a878fe-e468-40e5-a684-bb63cdf9f369",
   "metadata": {},
   "outputs": [],
   "source": [
    "def create_json_file(JSON_FILE,  delete_if_exists=False):\n",
    "    \n",
    "    ## Check if JSON_FILE exists\n",
    "    file_exists = os.path.isfile(JSON_FILE)\n",
    "    \n",
    "    ## If it DOES exist:\n",
    "    if file_exists == True:\n",
    "        \n",
    "        ## Check if user wants to delete if exists\n",
    "        if delete_if_exists==True:\n",
    "            \n",
    "            print(f\"[!] {JSON_FILE} already exists. Deleting previous file...\")\n",
    "            ## delete file and confirm it no longer exits.\n",
    "            os.remove(JSON_FILE)\n",
    "            ## Recursive call to function after old file deleted\n",
    "            create_json_file(JSON_FILE,delete_if_exists=False)\n",
    "        else:\n",
    "            print(f\"[i] {JSON_FILE} already exists.\")            \n",
    "            \n",
    "            \n",
    "    ## If it does NOT exist:\n",
    "    else:\n",
    "        \n",
    "        ## INFORM USER AND SAVE EMPTY LIST\n",
    "        print(f\"[i] {JSON_FILE} not found. Saving empty list to new file.\")\n",
    "        \n",
    "        ## CREATE ANY NEEDED FOLDERS\n",
    "        # Get the Folder Name only\n",
    "        folder = os.path.dirname(JSON_FILE)\n",
    "        \n",
    "        ## If JSON_FILE included a folder:\n",
    "        if len(folder)>0:\n",
    "            # create the folder\n",
    "            os.makedirs(folder,exist_ok=True)\n",
    "        ## Save empty list to start the json file\n",
    "        with open(JSON_FILE,'w') as f:\n",
    "            json.dump([],f)"
   ]
  },
  {
   "cell_type": "code",
   "execution_count": 11,
   "id": "faf833dc-eec8-4586-b277-5b612add5cf7",
   "metadata": {},
   "outputs": [
    {
     "name": "stdout",
     "output_type": "stream",
     "text": [
      "[i] Data/results_in_progress_TX_Tacos.json not found. Saving empty list to new file.\n",
      "- 0 previous results found.\n"
     ]
    },
    {
     "data": {
      "text/plain": [
       "55"
      ]
     },
     "execution_count": 11,
     "metadata": {},
     "output_type": "execute_result"
    }
   ],
   "source": [
    "## Create a new empty json file (exist the previous if it exists)\n",
    "create_json_file(JSON_FILE, delete_if_exists=True)\n",
    "## Load previous results and use len of results for offset\n",
    "with open(JSON_FILE,'r') as f:\n",
    "    previous_results = json.load(f)\n",
    "    \n",
    "## set offset based on previous results\n",
    "n_results = len(previous_results)\n",
    "print(f'- {n_results} previous results found.')\n",
    "# use our yelp_api variable's search_query method to perform our API call\n",
    "results = yelp_api.search_query(location=LOCATION,\n",
    "                                term=TERM,\n",
    "                               offset=n_results)\n",
    "## How many results total?\n",
    "total_results = results['total']\n",
    "## How many did we get the details for?\n",
    "results_per_page = len(results['businesses'])\n",
    "# Use math.ceil to round up for the total number of pages of results.\n",
    "n_pages = math.ceil((results['total']-n_results)/ results_per_page)\n",
    "n_pages"
   ]
  },
  {
   "cell_type": "code",
   "execution_count": 12,
   "id": "60215316-7c26-419a-b55d-e8947b8f70ff",
   "metadata": {},
   "outputs": [
    {
     "data": {
      "application/vnd.jupyter.widget-view+json": {
       "model_id": "64241b12029f4d18b7226d4a06e047c9",
       "version_major": 2,
       "version_minor": 0
      },
      "text/plain": [
       "  0%|          | 0/55 [00:00<?, ?it/s]"
      ]
     },
     "metadata": {},
     "output_type": "display_data"
    },
    {
     "name": "stdout",
     "output_type": "stream",
     "text": [
      "Exceeded 1000 api calls. Stopping loop.\n"
     ]
    }
   ],
   "source": [
    "for i in tqdm_notebook( range(1,n_pages+1)):\n",
    "    \n",
    "    ## Read in results in progress file and check the length\n",
    "    with open(JSON_FILE, 'r') as f:\n",
    "        previous_results = json.load(f)\n",
    "    ## save number of results for to use as offset\n",
    "    n_results = len(previous_results)\n",
    "    \n",
    "    if (n_results + results_per_page) > 1000:\n",
    "        print('Exceeded 1000 api calls. Stopping loop.')\n",
    "        break\n",
    "    \n",
    "    ## use n_results as the OFFSET \n",
    "    results = yelp_api.search_query(location=LOCATION,\n",
    "                                    term=TERM, \n",
    "                                    offset=n_results)\n",
    "    \n",
    "    \n",
    "    \n",
    "    ## append new results and save to file\n",
    "    previous_results.extend(results['businesses'])\n",
    "    \n",
    "    # display(previous_results)\n",
    "    with open(JSON_FILE,'w') as f:\n",
    "        json.dump(previous_results,f)\n",
    "    \n",
    "    time.sleep(.2)"
   ]
  },
  {
   "cell_type": "code",
   "execution_count": 13,
   "id": "39ab0967-469d-4b0f-9c54-4f4f2394a679",
   "metadata": {},
   "outputs": [
    {
     "data": {
      "text/html": [
       "<div>\n",
       "<style scoped>\n",
       "    .dataframe tbody tr th:only-of-type {\n",
       "        vertical-align: middle;\n",
       "    }\n",
       "\n",
       "    .dataframe tbody tr th {\n",
       "        vertical-align: top;\n",
       "    }\n",
       "\n",
       "    .dataframe thead th {\n",
       "        text-align: right;\n",
       "    }\n",
       "</style>\n",
       "<table border=\"1\" class=\"dataframe\">\n",
       "  <thead>\n",
       "    <tr style=\"text-align: right;\">\n",
       "      <th></th>\n",
       "      <th>id</th>\n",
       "      <th>alias</th>\n",
       "      <th>name</th>\n",
       "      <th>image_url</th>\n",
       "      <th>is_closed</th>\n",
       "      <th>url</th>\n",
       "      <th>review_count</th>\n",
       "      <th>categories</th>\n",
       "      <th>rating</th>\n",
       "      <th>coordinates</th>\n",
       "      <th>transactions</th>\n",
       "      <th>price</th>\n",
       "      <th>location</th>\n",
       "      <th>phone</th>\n",
       "      <th>display_phone</th>\n",
       "      <th>distance</th>\n",
       "    </tr>\n",
       "  </thead>\n",
       "  <tbody>\n",
       "    <tr>\n",
       "      <th>0</th>\n",
       "      <td>opFjbZ9NAOjefao_zGly6Q</td>\n",
       "      <td>chído-taco-lounge-frisco</td>\n",
       "      <td>chído Taco Lounge</td>\n",
       "      <td>https://s3-media3.fl.yelpcdn.com/bphoto/GdGCON...</td>\n",
       "      <td>False</td>\n",
       "      <td>https://www.yelp.com/biz/ch%C3%ADdo-taco-loung...</td>\n",
       "      <td>195</td>\n",
       "      <td>[{'alias': 'tacos', 'title': 'Tacos'}]</td>\n",
       "      <td>4.5</td>\n",
       "      <td>{'latitude': 33.12186180097871, 'longitude': -...</td>\n",
       "      <td>[delivery, pickup]</td>\n",
       "      <td>$$</td>\n",
       "      <td>{'address1': '6959 Lebanon Rd', 'address2': No...</td>\n",
       "      <td>+14692005715</td>\n",
       "      <td>(469) 200-5715</td>\n",
       "      <td>1246.114153</td>\n",
       "    </tr>\n",
       "    <tr>\n",
       "      <th>1</th>\n",
       "      <td>A3HeeuhyfPJsM04YPzsY5w</td>\n",
       "      <td>marianas-taco-shop-frisco</td>\n",
       "      <td>Marianas Taco Shop</td>\n",
       "      <td>https://s3-media3.fl.yelpcdn.com/bphoto/4or9qQ...</td>\n",
       "      <td>False</td>\n",
       "      <td>https://www.yelp.com/biz/marianas-taco-shop-fr...</td>\n",
       "      <td>468</td>\n",
       "      <td>[{'alias': 'mexican', 'title': 'Mexican'}]</td>\n",
       "      <td>4.0</td>\n",
       "      <td>{'latitude': 33.151359245193, 'longitude': -96...</td>\n",
       "      <td>[delivery]</td>\n",
       "      <td>$</td>\n",
       "      <td>{'address1': '8981 5th St', 'address2': '', 'a...</td>\n",
       "      <td>+12147059059</td>\n",
       "      <td>(214) 705-9059</td>\n",
       "      <td>2162.011494</td>\n",
       "    </tr>\n",
       "    <tr>\n",
       "      <th>2</th>\n",
       "      <td>LyTOhB3pINm9npfX2g2dcA</td>\n",
       "      <td>frezko-taco-spot-the-colony</td>\n",
       "      <td>Frezko Taco Spot</td>\n",
       "      <td>https://s3-media2.fl.yelpcdn.com/bphoto/pzKafQ...</td>\n",
       "      <td>False</td>\n",
       "      <td>https://www.yelp.com/biz/frezko-taco-spot-the-...</td>\n",
       "      <td>829</td>\n",
       "      <td>[{'alias': 'mexican', 'title': 'Mexican'}]</td>\n",
       "      <td>4.5</td>\n",
       "      <td>{'latitude': 33.070126, 'longitude': -96.881802}</td>\n",
       "      <td>[delivery, pickup]</td>\n",
       "      <td>$$</td>\n",
       "      <td>{'address1': '5101 TX-121', 'address2': 'Suite...</td>\n",
       "      <td>+19722945620</td>\n",
       "      <td>(972) 294-5620</td>\n",
       "      <td>9058.175382</td>\n",
       "    </tr>\n",
       "    <tr>\n",
       "      <th>3</th>\n",
       "      <td>J6-PwOfRohS4gGriZciTVw</td>\n",
       "      <td>la-suprema-market-frisco</td>\n",
       "      <td>La Suprema Market</td>\n",
       "      <td>https://s3-media3.fl.yelpcdn.com/bphoto/u49t5t...</td>\n",
       "      <td>False</td>\n",
       "      <td>https://www.yelp.com/biz/la-suprema-market-fri...</td>\n",
       "      <td>89</td>\n",
       "      <td>[{'alias': 'intlgrocery', 'title': 'Internatio...</td>\n",
       "      <td>4.5</td>\n",
       "      <td>{'latitude': 33.151254, 'longitude': -96.82714}</td>\n",
       "      <td>[delivery]</td>\n",
       "      <td>$</td>\n",
       "      <td>{'address1': '6726 Main St', 'address2': 'Ste ...</td>\n",
       "      <td>+14692940072</td>\n",
       "      <td>(469) 294-0072</td>\n",
       "      <td>2233.754368</td>\n",
       "    </tr>\n",
       "    <tr>\n",
       "      <th>4</th>\n",
       "      <td>Yfd_q1H6EHs8Jcus0YzEWw</td>\n",
       "      <td>taco-ocho-frisco</td>\n",
       "      <td>Taco Ocho</td>\n",
       "      <td>https://s3-media2.fl.yelpcdn.com/bphoto/Rh4voL...</td>\n",
       "      <td>False</td>\n",
       "      <td>https://www.yelp.com/biz/taco-ocho-frisco?adju...</td>\n",
       "      <td>270</td>\n",
       "      <td>[{'alias': 'mexican', 'title': 'Mexican'}, {'a...</td>\n",
       "      <td>4.0</td>\n",
       "      <td>{'latitude': 33.1077123837669, 'longitude': -9...</td>\n",
       "      <td>[delivery, pickup]</td>\n",
       "      <td>$$</td>\n",
       "      <td>{'address1': '3492 Legacy Dr', 'address2': 'St...</td>\n",
       "      <td>+12144942346</td>\n",
       "      <td>(214) 494-2346</td>\n",
       "      <td>3374.443061</td>\n",
       "    </tr>\n",
       "  </tbody>\n",
       "</table>\n",
       "</div>"
      ],
      "text/plain": [
       "                       id                        alias                name  \\\n",
       "0  opFjbZ9NAOjefao_zGly6Q     chído-taco-lounge-frisco   chído Taco Lounge   \n",
       "1  A3HeeuhyfPJsM04YPzsY5w    marianas-taco-shop-frisco  Marianas Taco Shop   \n",
       "2  LyTOhB3pINm9npfX2g2dcA  frezko-taco-spot-the-colony    Frezko Taco Spot   \n",
       "3  J6-PwOfRohS4gGriZciTVw     la-suprema-market-frisco   La Suprema Market   \n",
       "4  Yfd_q1H6EHs8Jcus0YzEWw             taco-ocho-frisco           Taco Ocho   \n",
       "\n",
       "                                           image_url  is_closed  \\\n",
       "0  https://s3-media3.fl.yelpcdn.com/bphoto/GdGCON...      False   \n",
       "1  https://s3-media3.fl.yelpcdn.com/bphoto/4or9qQ...      False   \n",
       "2  https://s3-media2.fl.yelpcdn.com/bphoto/pzKafQ...      False   \n",
       "3  https://s3-media3.fl.yelpcdn.com/bphoto/u49t5t...      False   \n",
       "4  https://s3-media2.fl.yelpcdn.com/bphoto/Rh4voL...      False   \n",
       "\n",
       "                                                 url  review_count  \\\n",
       "0  https://www.yelp.com/biz/ch%C3%ADdo-taco-loung...           195   \n",
       "1  https://www.yelp.com/biz/marianas-taco-shop-fr...           468   \n",
       "2  https://www.yelp.com/biz/frezko-taco-spot-the-...           829   \n",
       "3  https://www.yelp.com/biz/la-suprema-market-fri...            89   \n",
       "4  https://www.yelp.com/biz/taco-ocho-frisco?adju...           270   \n",
       "\n",
       "                                          categories  rating  \\\n",
       "0             [{'alias': 'tacos', 'title': 'Tacos'}]     4.5   \n",
       "1         [{'alias': 'mexican', 'title': 'Mexican'}]     4.0   \n",
       "2         [{'alias': 'mexican', 'title': 'Mexican'}]     4.5   \n",
       "3  [{'alias': 'intlgrocery', 'title': 'Internatio...     4.5   \n",
       "4  [{'alias': 'mexican', 'title': 'Mexican'}, {'a...     4.0   \n",
       "\n",
       "                                         coordinates        transactions  \\\n",
       "0  {'latitude': 33.12186180097871, 'longitude': -...  [delivery, pickup]   \n",
       "1  {'latitude': 33.151359245193, 'longitude': -96...          [delivery]   \n",
       "2   {'latitude': 33.070126, 'longitude': -96.881802}  [delivery, pickup]   \n",
       "3    {'latitude': 33.151254, 'longitude': -96.82714}          [delivery]   \n",
       "4  {'latitude': 33.1077123837669, 'longitude': -9...  [delivery, pickup]   \n",
       "\n",
       "  price                                           location         phone  \\\n",
       "0    $$  {'address1': '6959 Lebanon Rd', 'address2': No...  +14692005715   \n",
       "1     $  {'address1': '8981 5th St', 'address2': '', 'a...  +12147059059   \n",
       "2    $$  {'address1': '5101 TX-121', 'address2': 'Suite...  +19722945620   \n",
       "3     $  {'address1': '6726 Main St', 'address2': 'Ste ...  +14692940072   \n",
       "4    $$  {'address1': '3492 Legacy Dr', 'address2': 'St...  +12144942346   \n",
       "\n",
       "    display_phone     distance  \n",
       "0  (469) 200-5715  1246.114153  \n",
       "1  (214) 705-9059  2162.011494  \n",
       "2  (972) 294-5620  9058.175382  \n",
       "3  (469) 294-0072  2233.754368  \n",
       "4  (214) 494-2346  3374.443061  "
      ]
     },
     "metadata": {},
     "output_type": "display_data"
    },
    {
     "data": {
      "text/html": [
       "<div>\n",
       "<style scoped>\n",
       "    .dataframe tbody tr th:only-of-type {\n",
       "        vertical-align: middle;\n",
       "    }\n",
       "\n",
       "    .dataframe tbody tr th {\n",
       "        vertical-align: top;\n",
       "    }\n",
       "\n",
       "    .dataframe thead th {\n",
       "        text-align: right;\n",
       "    }\n",
       "</style>\n",
       "<table border=\"1\" class=\"dataframe\">\n",
       "  <thead>\n",
       "    <tr style=\"text-align: right;\">\n",
       "      <th></th>\n",
       "      <th>id</th>\n",
       "      <th>alias</th>\n",
       "      <th>name</th>\n",
       "      <th>image_url</th>\n",
       "      <th>is_closed</th>\n",
       "      <th>url</th>\n",
       "      <th>review_count</th>\n",
       "      <th>categories</th>\n",
       "      <th>rating</th>\n",
       "      <th>coordinates</th>\n",
       "      <th>transactions</th>\n",
       "      <th>price</th>\n",
       "      <th>location</th>\n",
       "      <th>phone</th>\n",
       "      <th>display_phone</th>\n",
       "      <th>distance</th>\n",
       "    </tr>\n",
       "  </thead>\n",
       "  <tbody>\n",
       "    <tr>\n",
       "      <th>995</th>\n",
       "      <td>oXuxRsNrLXx7QmH2MRbBRg</td>\n",
       "      <td>wendys-frisco-4</td>\n",
       "      <td>Wendy's</td>\n",
       "      <td>https://s3-media1.fl.yelpcdn.com/bphoto/LmWMjG...</td>\n",
       "      <td>False</td>\n",
       "      <td>https://www.yelp.com/biz/wendys-frisco-4?adjus...</td>\n",
       "      <td>53</td>\n",
       "      <td>[{'alias': 'hotdogs', 'title': 'Fast Food'}, {...</td>\n",
       "      <td>1.5</td>\n",
       "      <td>{'latitude': 33.174393, 'longitude': -96.837981}</td>\n",
       "      <td>[delivery]</td>\n",
       "      <td>$</td>\n",
       "      <td>{'address1': '5555 El Dorado Parkway', 'addres...</td>\n",
       "      <td>+12147058392</td>\n",
       "      <td>(214) 705-8392</td>\n",
       "      <td>4998.372164</td>\n",
       "    </tr>\n",
       "    <tr>\n",
       "      <th>996</th>\n",
       "      <td>2w3OLEu0BTG-DvBgONMcqQ</td>\n",
       "      <td>whole-foods-market-richardson-5</td>\n",
       "      <td>Whole Foods Market</td>\n",
       "      <td>https://s3-media2.fl.yelpcdn.com/bphoto/3omwgN...</td>\n",
       "      <td>False</td>\n",
       "      <td>https://www.yelp.com/biz/whole-foods-market-ri...</td>\n",
       "      <td>126</td>\n",
       "      <td>[{'alias': 'organic_stores', 'title': 'Organic...</td>\n",
       "      <td>3.5</td>\n",
       "      <td>{'latitude': 32.99871547899343, 'longitude': -...</td>\n",
       "      <td>[]</td>\n",
       "      <td>$$</td>\n",
       "      <td>{'address1': '1411 E Renner Rd', 'address2': '...</td>\n",
       "      <td>+12142730902</td>\n",
       "      <td>(214) 273-0902</td>\n",
       "      <td>18612.666229</td>\n",
       "    </tr>\n",
       "    <tr>\n",
       "      <th>997</th>\n",
       "      <td>-yB7Y3vXdtmjJkErBXn23A</td>\n",
       "      <td>7-eleven-the-colony</td>\n",
       "      <td>7-Eleven</td>\n",
       "      <td>https://s3-media2.fl.yelpcdn.com/bphoto/kmCZcV...</td>\n",
       "      <td>False</td>\n",
       "      <td>https://www.yelp.com/biz/7-eleven-the-colony?a...</td>\n",
       "      <td>6</td>\n",
       "      <td>[{'alias': 'coffee', 'title': 'Coffee &amp; Tea'},...</td>\n",
       "      <td>1.0</td>\n",
       "      <td>{'latitude': 33.0588716, 'longitude': -96.8624...</td>\n",
       "      <td>[delivery, pickup]</td>\n",
       "      <td>$</td>\n",
       "      <td>{'address1': '5801 Windhaven Pkwy', 'address2'...</td>\n",
       "      <td>+12144691665</td>\n",
       "      <td>(214) 469-1665</td>\n",
       "      <td>9112.417703</td>\n",
       "    </tr>\n",
       "    <tr>\n",
       "      <th>998</th>\n",
       "      <td>Fpcsb3ylccCaQ8-oqugrLA</td>\n",
       "      <td>southern-recipes-grill-plano</td>\n",
       "      <td>Southern Recipes Grill</td>\n",
       "      <td>https://s3-media2.fl.yelpcdn.com/bphoto/DzDzea...</td>\n",
       "      <td>False</td>\n",
       "      <td>https://www.yelp.com/biz/southern-recipes-gril...</td>\n",
       "      <td>88</td>\n",
       "      <td>[{'alias': 'tradamerican', 'title': 'American ...</td>\n",
       "      <td>3.0</td>\n",
       "      <td>{'latitude': 33.010061, 'longitude': -96.712225}</td>\n",
       "      <td>[delivery, pickup]</td>\n",
       "      <td>$</td>\n",
       "      <td>{'address1': '621 W Plano Pkwy', 'address2': '...</td>\n",
       "      <td>+19723129800</td>\n",
       "      <td>(972) 312-9800</td>\n",
       "      <td>16849.591240</td>\n",
       "    </tr>\n",
       "    <tr>\n",
       "      <th>999</th>\n",
       "      <td>ZNXdqXkZDc5CLWsGdHLsUg</td>\n",
       "      <td>ramen-hakata-lewisville</td>\n",
       "      <td>Ramen Hakata</td>\n",
       "      <td>https://s3-media3.fl.yelpcdn.com/bphoto/uz9UaK...</td>\n",
       "      <td>False</td>\n",
       "      <td>https://www.yelp.com/biz/ramen-hakata-lewisvil...</td>\n",
       "      <td>460</td>\n",
       "      <td>[{'alias': 'ramen', 'title': 'Ramen'}]</td>\n",
       "      <td>4.0</td>\n",
       "      <td>{'latitude': 33.002834823772126, 'longitude': ...</td>\n",
       "      <td>[delivery, pickup]</td>\n",
       "      <td>$$</td>\n",
       "      <td>{'address1': '500 E Round Grove Rd', 'address2...</td>\n",
       "      <td>+14697639006</td>\n",
       "      <td>(469) 763-9006</td>\n",
       "      <td>20600.853425</td>\n",
       "    </tr>\n",
       "  </tbody>\n",
       "</table>\n",
       "</div>"
      ],
      "text/plain": [
       "                         id                            alias  \\\n",
       "995  oXuxRsNrLXx7QmH2MRbBRg                  wendys-frisco-4   \n",
       "996  2w3OLEu0BTG-DvBgONMcqQ  whole-foods-market-richardson-5   \n",
       "997  -yB7Y3vXdtmjJkErBXn23A              7-eleven-the-colony   \n",
       "998  Fpcsb3ylccCaQ8-oqugrLA     southern-recipes-grill-plano   \n",
       "999  ZNXdqXkZDc5CLWsGdHLsUg          ramen-hakata-lewisville   \n",
       "\n",
       "                       name  \\\n",
       "995                 Wendy's   \n",
       "996      Whole Foods Market   \n",
       "997                7-Eleven   \n",
       "998  Southern Recipes Grill   \n",
       "999            Ramen Hakata   \n",
       "\n",
       "                                             image_url  is_closed  \\\n",
       "995  https://s3-media1.fl.yelpcdn.com/bphoto/LmWMjG...      False   \n",
       "996  https://s3-media2.fl.yelpcdn.com/bphoto/3omwgN...      False   \n",
       "997  https://s3-media2.fl.yelpcdn.com/bphoto/kmCZcV...      False   \n",
       "998  https://s3-media2.fl.yelpcdn.com/bphoto/DzDzea...      False   \n",
       "999  https://s3-media3.fl.yelpcdn.com/bphoto/uz9UaK...      False   \n",
       "\n",
       "                                                   url  review_count  \\\n",
       "995  https://www.yelp.com/biz/wendys-frisco-4?adjus...            53   \n",
       "996  https://www.yelp.com/biz/whole-foods-market-ri...           126   \n",
       "997  https://www.yelp.com/biz/7-eleven-the-colony?a...             6   \n",
       "998  https://www.yelp.com/biz/southern-recipes-gril...            88   \n",
       "999  https://www.yelp.com/biz/ramen-hakata-lewisvil...           460   \n",
       "\n",
       "                                            categories  rating  \\\n",
       "995  [{'alias': 'hotdogs', 'title': 'Fast Food'}, {...     1.5   \n",
       "996  [{'alias': 'organic_stores', 'title': 'Organic...     3.5   \n",
       "997  [{'alias': 'coffee', 'title': 'Coffee & Tea'},...     1.0   \n",
       "998  [{'alias': 'tradamerican', 'title': 'American ...     3.0   \n",
       "999             [{'alias': 'ramen', 'title': 'Ramen'}]     4.0   \n",
       "\n",
       "                                           coordinates        transactions  \\\n",
       "995   {'latitude': 33.174393, 'longitude': -96.837981}          [delivery]   \n",
       "996  {'latitude': 32.99871547899343, 'longitude': -...                  []   \n",
       "997  {'latitude': 33.0588716, 'longitude': -96.8624...  [delivery, pickup]   \n",
       "998   {'latitude': 33.010061, 'longitude': -96.712225}  [delivery, pickup]   \n",
       "999  {'latitude': 33.002834823772126, 'longitude': ...  [delivery, pickup]   \n",
       "\n",
       "    price                                           location         phone  \\\n",
       "995     $  {'address1': '5555 El Dorado Parkway', 'addres...  +12147058392   \n",
       "996    $$  {'address1': '1411 E Renner Rd', 'address2': '...  +12142730902   \n",
       "997     $  {'address1': '5801 Windhaven Pkwy', 'address2'...  +12144691665   \n",
       "998     $  {'address1': '621 W Plano Pkwy', 'address2': '...  +19723129800   \n",
       "999    $$  {'address1': '500 E Round Grove Rd', 'address2...  +14697639006   \n",
       "\n",
       "      display_phone      distance  \n",
       "995  (214) 705-8392   4998.372164  \n",
       "996  (214) 273-0902  18612.666229  \n",
       "997  (214) 469-1665   9112.417703  \n",
       "998  (972) 312-9800  16849.591240  \n",
       "999  (469) 763-9006  20600.853425  "
      ]
     },
     "metadata": {},
     "output_type": "display_data"
    }
   ],
   "source": [
    "# load final results\n",
    "final_df = pd.read_json(JSON_FILE)\n",
    "display(final_df.head(), final_df.tail())"
   ]
  },
  {
   "cell_type": "code",
   "execution_count": 14,
   "id": "5cc34043-9ae9-4308-a027-d63fd32eb9cd",
   "metadata": {},
   "outputs": [],
   "source": [
    "# save the final results to a compressed csv\n",
    "final_df.to_csv('Data/final_results_TX_Tacos.csv.gz', compression='gzip',index=False)"
   ]
  },
  {
   "cell_type": "code",
   "execution_count": null,
   "id": "26c1b0f4-e332-4ea7-9c7e-84ac7e0cf5d7",
   "metadata": {},
   "outputs": [],
   "source": []
  }
 ],
 "metadata": {
  "kernelspec": {
   "display_name": "Python 3 (ipykernel)",
   "language": "python",
   "name": "python3"
  },
  "language_info": {
   "codemirror_mode": {
    "name": "ipython",
    "version": 3
   },
   "file_extension": ".py",
   "mimetype": "text/x-python",
   "name": "python",
   "nbconvert_exporter": "python",
   "pygments_lexer": "ipython3",
   "version": "3.10.10"
  },
  "widgets": {
   "application/vnd.jupyter.widget-state+json": {
    "state": {
     "0165650243de4b2d9a42d49b9d37a7b5": {
      "model_module": "@jupyter-widgets/base",
      "model_module_version": "2.0.0",
      "model_name": "LayoutModel",
      "state": {}
     },
     "1738a3a790f74ab2bc7e6974af3716f9": {
      "model_module": "@jupyter-widgets/base",
      "model_module_version": "2.0.0",
      "model_name": "LayoutModel",
      "state": {}
     },
     "3fb3bdaf27ab4a6bbdd61defbf16a64a": {
      "model_module": "@jupyter-widgets/controls",
      "model_module_version": "2.0.0",
      "model_name": "FloatProgressModel",
      "state": {
       "bar_style": "danger",
       "layout": "IPY_MODEL_906de7cbed684a0da273f777ee0cd96c",
       "max": 55,
       "style": "IPY_MODEL_66dee03a80c74693997abd692805f1ab",
       "value": 50
      }
     },
     "494478f6ad2e4421b3e26f88ddfcfaa8": {
      "model_module": "@jupyter-widgets/controls",
      "model_module_version": "2.0.0",
      "model_name": "HTMLModel",
      "state": {
       "layout": "IPY_MODEL_0165650243de4b2d9a42d49b9d37a7b5",
       "style": "IPY_MODEL_5b773110aff24ef29f09167fc4a7450a",
       "value": " 50/55 [00:57&lt;00:08,  1.68s/it]"
      }
     },
     "5b773110aff24ef29f09167fc4a7450a": {
      "model_module": "@jupyter-widgets/controls",
      "model_module_version": "2.0.0",
      "model_name": "HTMLStyleModel",
      "state": {
       "description_width": "",
       "font_size": null,
       "text_color": null
      }
     },
     "64241b12029f4d18b7226d4a06e047c9": {
      "model_module": "@jupyter-widgets/controls",
      "model_module_version": "2.0.0",
      "model_name": "HBoxModel",
      "state": {
       "children": [
        "IPY_MODEL_b01299c86ca14d8d95cdc8830ab35bf2",
        "IPY_MODEL_3fb3bdaf27ab4a6bbdd61defbf16a64a",
        "IPY_MODEL_494478f6ad2e4421b3e26f88ddfcfaa8"
       ],
       "layout": "IPY_MODEL_7dcce48bbd36471ea3057a7dcc51f54c"
      }
     },
     "66dee03a80c74693997abd692805f1ab": {
      "model_module": "@jupyter-widgets/controls",
      "model_module_version": "2.0.0",
      "model_name": "ProgressStyleModel",
      "state": {
       "description_width": ""
      }
     },
     "7dcce48bbd36471ea3057a7dcc51f54c": {
      "model_module": "@jupyter-widgets/base",
      "model_module_version": "2.0.0",
      "model_name": "LayoutModel",
      "state": {}
     },
     "906de7cbed684a0da273f777ee0cd96c": {
      "model_module": "@jupyter-widgets/base",
      "model_module_version": "2.0.0",
      "model_name": "LayoutModel",
      "state": {}
     },
     "b01299c86ca14d8d95cdc8830ab35bf2": {
      "model_module": "@jupyter-widgets/controls",
      "model_module_version": "2.0.0",
      "model_name": "HTMLModel",
      "state": {
       "layout": "IPY_MODEL_1738a3a790f74ab2bc7e6974af3716f9",
       "style": "IPY_MODEL_beaa05a1838d4b3ab7ad788b71303323",
       "value": " 91%"
      }
     },
     "beaa05a1838d4b3ab7ad788b71303323": {
      "model_module": "@jupyter-widgets/controls",
      "model_module_version": "2.0.0",
      "model_name": "HTMLStyleModel",
      "state": {
       "description_width": "",
       "font_size": null,
       "text_color": null
      }
     }
    },
    "version_major": 2,
    "version_minor": 0
   }
  }
 },
 "nbformat": 4,
 "nbformat_minor": 5
}
